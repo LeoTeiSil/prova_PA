{
  "nbformat": 4,
  "nbformat_minor": 0,
  "metadata": {
    "colab": {
      "provenance": [],
      "authorship_tag": "ABX9TyNSClJUkPQwgQsGGYyDx+cg",
      "include_colab_link": true
    },
    "kernelspec": {
      "name": "python3",
      "display_name": "Python 3"
    },
    "language_info": {
      "name": "python"
    }
  },
  "cells": [
    {
      "cell_type": "markdown",
      "metadata": {
        "id": "view-in-github",
        "colab_type": "text"
      },
      "source": [
        "<a href=\"https://colab.research.google.com/github/LeoTeiSil/prova_PA/blob/main/resolu%C3%A7%C3%A3o.ipynb\" target=\"_parent\"><img src=\"https://colab.research.google.com/assets/colab-badge.svg\" alt=\"Open In Colab\"/></a>"
      ]
    },
    {
      "cell_type": "markdown",
      "source": [
        "\n",
        "Crie um jogo onde o usuário deve adivinhar um número secreto entre 1 e 100. O programa deve fornecer dicas sobre se o palpite do usuário está muito alto ou muito baixo. O jogo deve continuar até que o usuário adivinhe corretamente ou escolha sair."
      ],
      "metadata": {
        "id": "CHpJhMtbNdAg"
      }
    },
    {
      "cell_type": "code",
      "source": [
        "import random\n",
        "\n",
        "num_secreto = random.randint(1, 100)\n",
        "tentativas = 0\n",
        "pontuação = 100\n",
        "\n",
        "while True:\n",
        "    adivinhação = int(input(\"Adivinhação: \"))\n",
        "\n",
        "    if adivinhação < 1 or adivinhação > 100:\n",
        "        print(\"Desclassificado, o número deve estar entre 1 e 100.\")\n",
        "        break\n",
        "\n",
        "    if adivinhação > num_secreto:\n",
        "        print(\"Seu palpite está maior.\")\n",
        "        tentativas += 1\n",
        "    elif adivinhação < num_secreto:\n",
        "        print(\"Seu palpite está menor.\")\n",
        "        tentativas += 1\n",
        "    else:\n",
        "        print(\"Você acertou o número!\")\n",
        "        print(\"Número de tentativas: \", tentativas)\n",
        "        print(\"Pontuação final: \", pontuação)\n",
        "        break\n",
        "\n",
        "    calc = (num_secreto - adivinhação)\n",
        "\n",
        "    if calc <= 5:\n",
        "        pontuação -= 5\n",
        "        print(\"Você está quente.\")\n",
        "    elif calc <= 10:\n",
        "        pontuação -= 10\n",
        "        print(\"Você está morno.\")\n",
        "    elif calc <= 20:\n",
        "        pontuação -= 20\n",
        "        print(\"Você está frio.\")\n",
        "    else:\n",
        "        pontuação -= 25\n",
        "        print(\"Você está gelado.\")"
      ],
      "metadata": {
        "colab": {
          "base_uri": "https://localhost:8080/",
          "height": 460
        },
        "id": "7e80mwIzNiU6",
        "outputId": "5ad7d6e5-1db7-465d-9d9f-baa57ebee76d"
      },
      "execution_count": 2,
      "outputs": [
        {
          "output_type": "stream",
          "name": "stdout",
          "text": [
            "Adivinhação: 3\n",
            "Seu palpite está menor.\n",
            "Você está gelado.\n",
            "Adivinhação: 7\n",
            "Seu palpite está menor.\n",
            "Você está gelado.\n"
          ]
        },
        {
          "output_type": "error",
          "ename": "KeyboardInterrupt",
          "evalue": "Interrupted by user",
          "traceback": [
            "\u001b[0;31m---------------------------------------------------------------------------\u001b[0m",
            "\u001b[0;31mKeyboardInterrupt\u001b[0m                         Traceback (most recent call last)",
            "\u001b[0;32m<ipython-input-2-c25fb5a14bd6>\u001b[0m in \u001b[0;36m<cell line: 7>\u001b[0;34m()\u001b[0m\n\u001b[1;32m      6\u001b[0m \u001b[0;34m\u001b[0m\u001b[0m\n\u001b[1;32m      7\u001b[0m \u001b[0;32mwhile\u001b[0m \u001b[0;32mTrue\u001b[0m\u001b[0;34m:\u001b[0m\u001b[0;34m\u001b[0m\u001b[0;34m\u001b[0m\u001b[0m\n\u001b[0;32m----> 8\u001b[0;31m     \u001b[0madivinhação\u001b[0m \u001b[0;34m=\u001b[0m \u001b[0mint\u001b[0m\u001b[0;34m(\u001b[0m\u001b[0minput\u001b[0m\u001b[0;34m(\u001b[0m\u001b[0;34m\"Adivinhação: \"\u001b[0m\u001b[0;34m)\u001b[0m\u001b[0;34m)\u001b[0m\u001b[0;34m\u001b[0m\u001b[0;34m\u001b[0m\u001b[0m\n\u001b[0m\u001b[1;32m      9\u001b[0m \u001b[0;34m\u001b[0m\u001b[0m\n\u001b[1;32m     10\u001b[0m     \u001b[0;32mif\u001b[0m \u001b[0madivinhação\u001b[0m \u001b[0;34m<\u001b[0m \u001b[0;36m1\u001b[0m \u001b[0;32mor\u001b[0m \u001b[0madivinhação\u001b[0m \u001b[0;34m>\u001b[0m \u001b[0;36m100\u001b[0m\u001b[0;34m:\u001b[0m\u001b[0;34m\u001b[0m\u001b[0;34m\u001b[0m\u001b[0m\n",
            "\u001b[0;32m/usr/local/lib/python3.10/dist-packages/ipykernel/kernelbase.py\u001b[0m in \u001b[0;36mraw_input\u001b[0;34m(self, prompt)\u001b[0m\n\u001b[1;32m    849\u001b[0m                 \u001b[0;34m\"raw_input was called, but this frontend does not support input requests.\"\u001b[0m\u001b[0;34m\u001b[0m\u001b[0;34m\u001b[0m\u001b[0m\n\u001b[1;32m    850\u001b[0m             )\n\u001b[0;32m--> 851\u001b[0;31m         return self._input_request(str(prompt),\n\u001b[0m\u001b[1;32m    852\u001b[0m             \u001b[0mself\u001b[0m\u001b[0;34m.\u001b[0m\u001b[0m_parent_ident\u001b[0m\u001b[0;34m,\u001b[0m\u001b[0;34m\u001b[0m\u001b[0;34m\u001b[0m\u001b[0m\n\u001b[1;32m    853\u001b[0m             \u001b[0mself\u001b[0m\u001b[0;34m.\u001b[0m\u001b[0m_parent_header\u001b[0m\u001b[0;34m,\u001b[0m\u001b[0;34m\u001b[0m\u001b[0;34m\u001b[0m\u001b[0m\n",
            "\u001b[0;32m/usr/local/lib/python3.10/dist-packages/ipykernel/kernelbase.py\u001b[0m in \u001b[0;36m_input_request\u001b[0;34m(self, prompt, ident, parent, password)\u001b[0m\n\u001b[1;32m    893\u001b[0m             \u001b[0;32mexcept\u001b[0m \u001b[0mKeyboardInterrupt\u001b[0m\u001b[0;34m:\u001b[0m\u001b[0;34m\u001b[0m\u001b[0;34m\u001b[0m\u001b[0m\n\u001b[1;32m    894\u001b[0m                 \u001b[0;31m# re-raise KeyboardInterrupt, to truncate traceback\u001b[0m\u001b[0;34m\u001b[0m\u001b[0;34m\u001b[0m\u001b[0m\n\u001b[0;32m--> 895\u001b[0;31m                 \u001b[0;32mraise\u001b[0m \u001b[0mKeyboardInterrupt\u001b[0m\u001b[0;34m(\u001b[0m\u001b[0;34m\"Interrupted by user\"\u001b[0m\u001b[0;34m)\u001b[0m \u001b[0;32mfrom\u001b[0m \u001b[0;32mNone\u001b[0m\u001b[0;34m\u001b[0m\u001b[0;34m\u001b[0m\u001b[0m\n\u001b[0m\u001b[1;32m    896\u001b[0m             \u001b[0;32mexcept\u001b[0m \u001b[0mException\u001b[0m \u001b[0;32mas\u001b[0m \u001b[0me\u001b[0m\u001b[0;34m:\u001b[0m\u001b[0;34m\u001b[0m\u001b[0;34m\u001b[0m\u001b[0m\n\u001b[1;32m    897\u001b[0m                 \u001b[0mself\u001b[0m\u001b[0;34m.\u001b[0m\u001b[0mlog\u001b[0m\u001b[0;34m.\u001b[0m\u001b[0mwarning\u001b[0m\u001b[0;34m(\u001b[0m\u001b[0;34m\"Invalid Message:\"\u001b[0m\u001b[0;34m,\u001b[0m \u001b[0mexc_info\u001b[0m\u001b[0;34m=\u001b[0m\u001b[0;32mTrue\u001b[0m\u001b[0;34m)\u001b[0m\u001b[0;34m\u001b[0m\u001b[0;34m\u001b[0m\u001b[0m\n",
            "\u001b[0;31mKeyboardInterrupt\u001b[0m: Interrupted by user"
          ]
        }
      ]
    },
    {
      "cell_type": "markdown",
      "source": [
        "\n",
        "2)Crie um programa que simula um caixa de supermercado. O usuário deve inserir o preço de cada item comprado e, após inserir todos os itens, o programa deve calcular o total da compra e aplicar um desconto de 5%, se o valor for pago a vista, caso contrário cobrança normal. Execute o programa até o usuário disser que deseja continuar."
      ],
      "metadata": {
        "id": "UyGl3n0iNm18"
      }
    },
    {
      "cell_type": "code",
      "source": [
        "\n",
        "total = 0\n",
        "desc = 0.05\n",
        "qtde = int(input(\"Quantidade de produtos: \"))\n",
        "\n",
        "for i in range(qtde):\n",
        "\n",
        "    total = total + preco\n",
        "\n",
        "    preco = int(float(input(\"Preço do produto: \")))\n",
        "\n",
        "    print(\"A sua compra tem o valor de: R$\",total, \"deseja continuar?\")\n",
        "    continuar = input().lower()\n",
        "\n",
        "    if continuar != \"sim\":\n",
        "        break\n",
        "        print(\"Cancelando a compra\")\n",
        "\n",
        "print(\"pagamentos\")\n",
        "print(\"A VISTA = 1\")\n",
        "print(\"Outro modo = 2\")\n",
        "pag = int(input(\"\"))\n",
        "\n",
        "if pag == 1:\n",
        "    desconto = total * desc\n",
        "    total = total - desconto\n",
        "    print(\"O total da compra deu: \",total)\n",
        "\n",
        "elif pag == 2:\n",
        "    print(\"O total da sua compra deu:\", total)"
      ],
      "metadata": {
        "id": "uIbDNn1pNnkS"
      },
      "execution_count": null,
      "outputs": []
    }
  ]
}