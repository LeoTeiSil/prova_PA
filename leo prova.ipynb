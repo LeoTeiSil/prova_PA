{
 "cells": [
  {
   "cell_type": "markdown",
   "id": "af143682",
   "metadata": {},
   "source": [
    "1) Crie um jogo onde o usuário deve adivinhar um número secreto entre 1 e 100. O programa deve fornecer dicas sobre se o palpite do usuário está muito alto ou muito baixo. \n",
    "O jogo deve continuar até que o usuário adivinhe corretamente ou escolha sair."
   ]
  },
  {
   "cell_type": "code",
   "execution_count": 125,
   "id": "3a681c9a",
   "metadata": {},
   "outputs": [
    {
     "name": "stdout",
     "output_type": "stream",
     "text": [
      "Digite o número secreto 20\n",
      "30\n",
      "Seu palpite está maior \n",
      "50\n",
      "Seu palpite está maior \n",
      "100\n",
      "Seu palpite está maior \n",
      "200\n",
      "Seu palpite está maior \n",
      "6\n",
      "Seu palpite esta menor \n",
      "20\n",
      "Você acertou o número!\n",
      "Números de tentativas foram:  5\n"
     ]
    }
   ],
   "source": [
    "num_secreto = int(input(\"Digite o número secreto \"))\n",
    "tentativas = 0\n",
    "\n",
    "while True:\n",
    "    \n",
    "    if num_secreto < 1 or num_secreto > 100:\n",
    "        print(\"O número não está na lista\")\n",
    "        break\n",
    "    \n",
    "    palpite = int(input())\n",
    "    \n",
    "    if palpite > num_secreto:\n",
    "        print(\"Seu palpite está maior \")\n",
    "        tentativas = tentativas + 1\n",
    "    elif palpite < num_secreto:\n",
    "        print(\"Seu palpite esta menor \")\n",
    "        tentativas = tentativas + 1\n",
    "\n",
    "    else:\n",
    "        print(\"Você acertou o número!\")\n",
    "        print(\"Números de tentativas foram: \", tentativas)\n",
    "        break"
   ]
  },
  {
   "cell_type": "markdown",
   "id": "10b8cabe",
   "metadata": {},
   "source": [
    "2)Crie um programa que simula um caixa de supermercado. O usuário deve inserir o preço de cada item comprado e, após inserir todos os itens, o programa deve calcular o total da compra e aplicar um desconto de 5%, se o valor for pago a vista, caso contrário cobrança normal.\n",
    "Execute o programa até o usuário disser que deseja continuar. "
   ]
  },
  {
   "cell_type": "code",
   "execution_count": 127,
   "id": "5966606d",
   "metadata": {},
   "outputs": [
    {
     "name": "stdout",
     "output_type": "stream",
     "text": [
      "Quantidade de produtos: 4\n",
      "Preço do produto: 100\n",
      "A sua compra tem o valor de: R$ 100 deseja continuar?\n",
      "sim\n",
      "Preço do produto: 100\n",
      "A sua compra tem o valor de: R$ 200 deseja continuar?\n",
      "sim\n",
      "Preço do produto: 100\n",
      "A sua compra tem o valor de: R$ 300 deseja continuar?\n",
      "sim\n",
      "Preço do produto: 200\n",
      "A sua compra tem o valor de: R$ 400 deseja continuar?\n",
      "sim\n",
      "pagamentos\n",
      "A VISTA = 1\n",
      "Outro modo = 2\n",
      "1\n",
      "O total da compra deu:  380.0\n"
     ]
    }
   ],
   "source": [
    "total = 0\n",
    "desc = 0.05\n",
    "qtde = int(input(\"Quantidade de produtos: \"))\n",
    "\n",
    "for i in range(qtde):\n",
    "    \n",
    "    total = total + preco \n",
    "    \n",
    "    preco = int(float(input(\"Preço do produto: \")))\n",
    "    \n",
    "    print(\"A sua compra tem o valor de: R$\",total, \"deseja continuar?\")\n",
    "    continuar = input().lower()\n",
    "\n",
    "    if continuar != \"sim\":\n",
    "        break\n",
    "        print(\"Cancelando a compra\")\n",
    "        \n",
    "print(\"pagamentos\")\n",
    "print(\"A VISTA = 1\")\n",
    "print(\"Outro modo = 2\")\n",
    "pag = int(input(\"\")) \n",
    "\n",
    "if pag == 1:\n",
    "    desconto = total * desc\n",
    "    total = total - desconto\n",
    "    print(\"O total da compra deu: \",total)\n",
    "\n",
    "elif pag == 2:\n",
    "    print(\"O total da sua compra deu:\", total)"
   ]
  },
  {
   "cell_type": "code",
   "execution_count": null,
   "id": "7ca2fef0",
   "metadata": {},
   "outputs": [],
   "source": []
  }
 ],
 "metadata": {
  "kernelspec": {
   "display_name": "Python 3 (ipykernel)",
   "language": "python",
   "name": "python3"
  },
  "language_info": {
   "codemirror_mode": {
    "name": "ipython",
    "version": 3
   },
   "file_extension": ".py",
   "mimetype": "text/x-python",
   "name": "python",
   "nbconvert_exporter": "python",
   "pygments_lexer": "ipython3",
   "version": "3.10.7"
  }
 },
 "nbformat": 4,
 "nbformat_minor": 5
}
